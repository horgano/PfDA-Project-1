{
 "cells": [
  {
   "cell_type": "markdown",
   "id": "8ca38746",
   "metadata": {},
   "source": [
    "# PfDA Project1\n",
    "\n",
    "### Niall Horgan"
   ]
  },
  {
   "cell_type": "code",
   "execution_count": 2,
   "id": "52331a55",
   "metadata": {},
   "outputs": [],
   "source": [
    "import numpy as np\n",
    "import pandas as pd\n",
    "import matplotlib.pyplot as plt"
   ]
  },
  {
   "cell_type": "code",
   "execution_count": 3,
   "id": "b57be7c0",
   "metadata": {},
   "outputs": [],
   "source": [
    "np.random.seed(1)"
   ]
  },
  {
   "cell_type": "code",
   "execution_count": 5,
   "id": "3ad3a56b",
   "metadata": {},
   "outputs": [],
   "source": [
    "number_of_players = 100"
   ]
  },
  {
   "cell_type": "code",
   "execution_count": 8,
   "id": "539771fc",
   "metadata": {},
   "outputs": [
    {
     "name": "stdout",
     "output_type": "stream",
     "text": [
      "[  1   2   3   4   5   6   7   8   9  10  11  12  13  14  15  16  17  18\n",
      "  19  20  21  22  23  24  25  26  27  28  29  30  31  32  33  34  35  36\n",
      "  37  38  39  40  41  42  43  44  45  46  47  48  49  50  51  52  53  54\n",
      "  55  56  57  58  59  60  61  62  63  64  65  66  67  68  69  70  71  72\n",
      "  73  74  75  76  77  78  79  80  81  82  83  84  85  86  87  88  89  90\n",
      "  91  92  93  94  95  96  97  98  99 100]\n",
      "['France' 'France' 'England' 'France' 'Ireland' 'France' 'Ireland'\n",
      " 'France' 'Argentina' 'New Zealand' 'New Zealand' 'France' 'Ireland'\n",
      " 'France' 'Ireland' 'England' 'South Africa' 'France' 'Argentina'\n",
      " 'England' 'South Africa' 'Ireland' 'France' 'Argentina' 'Argentina'\n",
      " 'France' 'France' 'New Zealand' 'South Africa' 'England' 'Argentina'\n",
      " 'Ireland' 'Ireland' 'France' 'England' 'South Africa' 'England'\n",
      " 'South Africa' 'Ireland' 'France' 'Argentina' 'Ireland' 'Ireland'\n",
      " 'England' 'France' 'South Africa' 'New Zealand' 'Ireland' 'England'\n",
      " 'Argentina' 'Ireland' 'New Zealand' 'South Africa' 'England' 'England'\n",
      " 'Argentina' 'Argentina' 'Argentina' 'Argentina' 'South Africa'\n",
      " 'Argentina' 'Argentina' 'France' 'England' 'Argentina' 'South Africa'\n",
      " 'England' 'England' 'Ireland' 'Argentina' 'Argentina' 'Ireland'\n",
      " 'Argentina' 'France' 'France' 'New Zealand' 'Ireland' 'South Africa'\n",
      " 'South Africa' 'South Africa' 'Ireland' 'South Africa' 'New Zealand'\n",
      " 'England' 'Ireland' 'England' 'England' 'New Zealand' 'Argentina'\n",
      " 'New Zealand' 'England' 'New Zealand' 'South Africa' 'France'\n",
      " 'New Zealand' 'Ireland' 'Ireland' 'South Africa' 'England' 'New Zealand']\n",
      "['Winger' 'Front row' 'Winger' 'Full back' 'Front row' 'Scrum Half' 'Lock'\n",
      " 'Front row' 'Out half' 'Scrum Half' 'Full back' 'Back row' 'Scrum Half'\n",
      " 'Out half' 'Full back' 'Winger' 'Full back' 'Centre' 'Winger' 'Out half'\n",
      " 'Scrum Half' 'Front row' 'Front row' 'Front row' 'Winger' 'Winger'\n",
      " 'Full back' 'Full back' 'Out half' 'Winger' 'Centre' 'Full back' 'Lock'\n",
      " 'Centre' 'Out half' 'Lock' 'Back row' 'Centre' 'Back row' 'Winger'\n",
      " 'Centre' 'Out half' 'Centre' 'Winger' 'Scrum Half' 'Winger' 'Out half'\n",
      " 'Out half' 'Front row' 'Scrum Half' 'Back row' 'Out half' 'Full back'\n",
      " 'Full back' 'Full back' 'Centre' 'Scrum Half' 'Out half' 'Back row'\n",
      " 'Winger' 'Scrum Half' 'Front row' 'Centre' 'Centre' 'Back row' 'Lock'\n",
      " 'Scrum Half' 'Back row' 'Front row' 'Centre' 'Lock' 'Out half' 'Lock'\n",
      " 'Scrum Half' 'Scrum Half' 'Lock' 'Back row' 'Full back' 'Winger'\n",
      " 'Front row' 'Back row' 'Out half' 'Winger' 'Full back' 'Front row'\n",
      " 'Winger' 'Back row' 'Out half' 'Scrum Half' 'Winger' 'Out half'\n",
      " 'Full back' 'Winger' 'Scrum Half' 'Full back' 'Front row' 'Centre'\n",
      " 'Winger' 'Centre' 'Out half']\n",
      "[7 6 2 9 5 9 9 9 8 6 4 2 9 4 0 0 3 4 9 3 9 1 2 5 4 0 8 2 3 9 9 4 4 8 2 1 6\n",
      " 3 8 9 7 0 5 2 2 8 5 0 5 9 8 6 6 0 4 7 3 0 1 6 0 6 1 6 4 2 5 4 6 2 9 2 7 5\n",
      " 0 7 8 8 8 0 7 2 0 7 1 1 9 5 1 5 9 6 4 9 8 7 5 1 8 0]\n",
      "[19 12 25 13 16  4 24 27  4  3 12  2 12 32 32 15 36 10 12 18 30  5 16 31\n",
      " 32 43 44 31 43 35 44 24 15 21 19 13 33  4 39  3 34 34 42 14 18 38 38 48\n",
      " 17  5 38 27  8 40  5  5  7 14 37 41 14 33 27 13 30 43 46  9  3  3  3 33\n",
      " 35 16 28 37  0 37 29 18 14 39  6 28 10 32 46 29 18 36 29 39 28 29 39 26\n",
      " 27 42 12 17]\n"
     ]
    }
   ],
   "source": [
    "player_ids = np.arange(1, number_of_players + 1 )\n",
    "team_names = np.random.choice(['Ireland','New Zealand','South Africa','Argentina','England','France'], size = number_of_players)\n",
    "positions = np.random.choice(['Front row','Lock','Back row','Scrum Half','Out half','Centre','Winger','Full back'], size = number_of_players)\n",
    "tries_scored = np.random.randint(0, 10, size = number_of_players)\n",
    "tackles_made = np.random.randint(0, 50, size = number_of_players)\n",
    "print (player_ids)\n",
    "print (team_names)\n",
    "print (positions)\n",
    "print (tries_scored)\n",
    "print (tackles_made)"
   ]
  },
  {
   "cell_type": "code",
   "execution_count": 4,
   "id": "095dacab",
   "metadata": {},
   "outputs": [],
   "source": []
  },
  {
   "cell_type": "code",
   "execution_count": null,
   "id": "62972b60",
   "metadata": {},
   "outputs": [],
   "source": []
  },
  {
   "cell_type": "code",
   "execution_count": 6,
   "id": "b6eb8b6c",
   "metadata": {},
   "outputs": [],
   "source": [
    "\n"
   ]
  },
  {
   "cell_type": "code",
   "execution_count": 7,
   "id": "24f04fb6",
   "metadata": {},
   "outputs": [],
   "source": [
    "#print (x)"
   ]
  },
  {
   "cell_type": "code",
   "execution_count": 8,
   "id": "efa917bd",
   "metadata": {},
   "outputs": [],
   "source": [
    "#plt.hist(x)\n",
    "#plt.show()\n"
   ]
  },
  {
   "cell_type": "code",
   "execution_count": 21,
   "id": "18bbed60",
   "metadata": {},
   "outputs": [],
   "source": [
    "\n"
   ]
  },
  {
   "cell_type": "code",
   "execution_count": null,
   "id": "c987ab58",
   "metadata": {},
   "outputs": [],
   "source": []
  },
  {
   "cell_type": "code",
   "execution_count": null,
   "id": "64412027",
   "metadata": {},
   "outputs": [],
   "source": []
  },
  {
   "cell_type": "code",
   "execution_count": null,
   "id": "ee539a1c",
   "metadata": {},
   "outputs": [],
   "source": []
  },
  {
   "cell_type": "code",
   "execution_count": null,
   "id": "49179bda",
   "metadata": {},
   "outputs": [],
   "source": []
  },
  {
   "cell_type": "code",
   "execution_count": null,
   "id": "4bab7ecc",
   "metadata": {},
   "outputs": [],
   "source": []
  },
  {
   "cell_type": "code",
   "execution_count": null,
   "id": "bd10123f",
   "metadata": {},
   "outputs": [],
   "source": []
  }
 ],
 "metadata": {
  "kernelspec": {
   "display_name": "Python 3 (ipykernel)",
   "language": "python",
   "name": "python3"
  },
  "language_info": {
   "codemirror_mode": {
    "name": "ipython",
    "version": 3
   },
   "file_extension": ".py",
   "mimetype": "text/x-python",
   "name": "python",
   "nbconvert_exporter": "python",
   "pygments_lexer": "ipython3",
   "version": "3.11.5"
  }
 },
 "nbformat": 4,
 "nbformat_minor": 5
}
