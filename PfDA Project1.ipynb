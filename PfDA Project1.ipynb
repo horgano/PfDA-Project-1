{
 "cells": [
  {
   "cell_type": "code",
   "execution_count": 1,
   "id": "e59f135c",
   "metadata": {},
   "outputs": [],
   "source": [
    "# PfDA Project\n",
    "## Niall Horgan"
   ]
  },
  {
   "cell_type": "code",
   "execution_count": 2,
   "id": "52331a55",
   "metadata": {},
   "outputs": [],
   "source": [
    "import numpy as np\n",
    "import pandas as pd"
   ]
  },
  {
   "cell_type": "code",
   "execution_count": 3,
   "id": "3ad3a56b",
   "metadata": {},
   "outputs": [
    {
     "name": "stdout",
     "output_type": "stream",
     "text": [
      "[ 6  9 10  6  1]\n",
      "1\n"
     ]
    }
   ],
   "source": [
    "seed_value = 1\n",
    "np.random.seed(seed_value)\n",
    "\n",
    "var1 = np.random.randint(1, 11, 5)\n",
    "print (var1)\n",
    "print (var1[-1])"
   ]
  },
  {
   "cell_type": "code",
   "execution_count": 4,
   "id": "539771fc",
   "metadata": {},
   "outputs": [
    {
     "name": "stdout",
     "output_type": "stream",
     "text": [
      "[ -3.58433632   0.3810649  -22.49815705  19.04297889 -18.72779144]\n",
      "-18.727791437143495\n"
     ]
    }
   ],
   "source": [
    "seed_value2 = 2\n",
    "np.random.seed(seed_value2)\n",
    "\n",
    "var2 = np.random.normal(1,11, 5)\n",
    "print (var2)\n",
    "print (var2[-1])"
   ]
  },
  {
   "cell_type": "code",
   "execution_count": 5,
   "id": "095dacab",
   "metadata": {},
   "outputs": [
    {
     "name": "stdout",
     "output_type": "stream",
     "text": [
      "[[[0.20464863 0.61927097 0.29965467 0.26682728 0.62113383]\n",
      "  [0.52914209 0.13457995 0.51357812 0.18443987 0.78533515]\n",
      "  [0.85397529 0.49423684 0.84656149 0.07964548 0.50524609]\n",
      "  [0.0652865  0.42812233 0.09653092 0.12715997 0.59674531]\n",
      "  [0.226012   0.10694568 0.22030621 0.34982629 0.46778748]\n",
      "  [0.20174323 0.64040673 0.48306984 0.50523672 0.38689265]\n",
      "  [0.79363745 0.58000418 0.1622986  0.70075235 0.96455108]\n",
      "  [0.50000836 0.88952006 0.34161365 0.56714413 0.42754596]\n",
      "  [0.43674726 0.77655918 0.53560417 0.95374223 0.54420816]\n",
      "  [0.08209492 0.3663424  0.8508505  0.40627504 0.02720237]\n",
      "  [0.24717724 0.06714437 0.99385201 0.97058031 0.80025835]]]\n",
      "[[0.20464863 0.61927097 0.29965467 0.26682728 0.62113383]\n",
      " [0.52914209 0.13457995 0.51357812 0.18443987 0.78533515]\n",
      " [0.85397529 0.49423684 0.84656149 0.07964548 0.50524609]\n",
      " [0.0652865  0.42812233 0.09653092 0.12715997 0.59674531]\n",
      " [0.226012   0.10694568 0.22030621 0.34982629 0.46778748]\n",
      " [0.20174323 0.64040673 0.48306984 0.50523672 0.38689265]\n",
      " [0.79363745 0.58000418 0.1622986  0.70075235 0.96455108]\n",
      " [0.50000836 0.88952006 0.34161365 0.56714413 0.42754596]\n",
      " [0.43674726 0.77655918 0.53560417 0.95374223 0.54420816]\n",
      " [0.08209492 0.3663424  0.8508505  0.40627504 0.02720237]\n",
      " [0.24717724 0.06714437 0.99385201 0.97058031 0.80025835]]\n"
     ]
    }
   ],
   "source": [
    "var3 = np.random.rand(1,11,5)\n",
    "print (var3)\n",
    "print (var3[-1])"
   ]
  },
  {
   "cell_type": "code",
   "execution_count": null,
   "id": "62972b60",
   "metadata": {},
   "outputs": [],
   "source": []
  }
 ],
 "metadata": {
  "kernelspec": {
   "display_name": "Python 3 (ipykernel)",
   "language": "python",
   "name": "python3"
  },
  "language_info": {
   "codemirror_mode": {
    "name": "ipython",
    "version": 3
   },
   "file_extension": ".py",
   "mimetype": "text/x-python",
   "name": "python",
   "nbconvert_exporter": "python",
   "pygments_lexer": "ipython3",
   "version": "3.11.5"
  }
 },
 "nbformat": 4,
 "nbformat_minor": 5
}
